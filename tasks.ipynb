{
  "nbformat": 4,
  "nbformat_minor": 0,
  "metadata": {
    "colab": {
      "provenance": [],
      "authorship_tag": "ABX9TyNjyM3mnnU7ZVDYM15dMVX9",
      "include_colab_link": true
    },
    "kernelspec": {
      "name": "python3",
      "display_name": "Python 3"
    },
    "language_info": {
      "name": "python"
    }
  },
  "cells": [
    {
      "cell_type": "markdown",
      "metadata": {
        "id": "view-in-github",
        "colab_type": "text"
      },
      "source": [
        "<a href=\"https://colab.research.google.com/github/Ajay6767/GIS/blob/main/tasks.ipynb\" target=\"_parent\"><img src=\"https://colab.research.google.com/assets/colab-badge.svg\" alt=\"Open In Colab\"/></a>"
      ]
    },
    {
      "cell_type": "code",
      "execution_count": null,
      "metadata": {
        "id": "4krhHXHstq3V"
      },
      "outputs": [],
      "source": [
        "# prompt: print hello world\n",
        "\n",
        "print('Hello World!')\n"
      ]
    },
    {
      "cell_type": "code",
      "source": [
        "# prompt: how to generate dataframe\n",
        "\n",
        "import pandas as pd\n",
        "\n",
        "data = {'Name': ['Alice', 'Bob', 'Claire'],\n",
        "       'Age': [25, 30, 28]}\n",
        "\n",
        "df = pd.DataFrame(data)\n",
        "\n",
        "print(df)\n"
      ],
      "metadata": {
        "id": "GeCsLEbNt3iX"
      },
      "execution_count": null,
      "outputs": []
    },
    {
      "cell_type": "code",
      "source": [
        "# prompt: Write a function about_me that prints some info about a student. It takes six parameters: student's name, age, weight, height, university name and nationality, and prints out the details.\n",
        "#  Example usage:\n",
        "# >> about_me('Jackie', 26, 57, 1.60, 'Flinders', 'American')\n",
        "# output:\n",
        "# Hello, I am Jackie, 26 years old. My weight is 57.00. I am 1.6 meters tall.\n",
        "# I am a Flinders student. My nationality is Americ\n",
        "\n",
        "def about_me(name, age, weight, height, university_name, nationality):\n",
        "  \"\"\"\n",
        "  Prints some info about a student.\n",
        "\n",
        "  Args:\n",
        "      name: The student's name.\n",
        "      age: The student's age.\n",
        "      weight: The student's weight.\n",
        "      height: The student's height.\n",
        "      university_name: The student's university name.\n",
        "      nationality: The student's nationality.\n",
        "  \"\"\"\n",
        "  print(f\"Hello, I am {name}, {age} years old. My weight is {weight:.2f}. I am {height:.2f} meters tall.\")\n",
        "  print(f\"I am a {university_name} student. My nationality is {nationality}\")\n",
        "\n",
        "about_me('Jackie', 26, 57, 1.60, 'Flinders', 'American')\n"
      ],
      "metadata": {
        "colab": {
          "base_uri": "https://localhost:8080/"
        },
        "id": "UxNUtSe5uO72",
        "outputId": "bf538329-3842-4266-88ef-51cbd505dae6"
      },
      "execution_count": 1,
      "outputs": [
        {
          "output_type": "stream",
          "name": "stdout",
          "text": [
            "Hello, I am Jackie, 26 years old. My weight is 57.00. I am 1.60 meters tall.\n",
            "I am a Flinders student. My nationality is American\n"
          ]
        }
      ]
    },
    {
      "cell_type": "code",
      "source": [
        "# prompt: instead of giving the static value in about_me function, take the user input\n",
        "\n",
        "def about_me():\n",
        "  \"\"\"\n",
        "  Prints some info about a student.\n",
        "\n",
        "  Takes user input for name, age, weight, height, university name, and nationality.\n",
        "  \"\"\"\n",
        "  name = input(\"Enter your name: \")\n",
        "  age = int(input(\"Enter your age: \"))\n",
        "  weight = float(input(\"Enter your weight: \"))\n",
        "  height = float(input(\"Enter your height: \"))\n",
        "  university_name = input(\"Enter your university name: \")\n",
        "  nationality = input(\"Enter your nationality: \")\n",
        "  print(f\"Hello, I am {name}, {age} years old. My weight is {weight:.2f}. I am {height:.2f} meters tall.\")\n",
        "  print(f\"I am a {university_name} student. My nationality is {nationality}\")\n",
        "\n",
        "about_me()\n"
      ],
      "metadata": {
        "colab": {
          "base_uri": "https://localhost:8080/"
        },
        "id": "2btq3HEwunQX",
        "outputId": "352d7bf2-f721-4982-af40-8df8e416aac3"
      },
      "execution_count": 2,
      "outputs": [
        {
          "output_type": "stream",
          "name": "stdout",
          "text": [
            "Enter your name: ajay\n",
            "Enter your age: 26\n",
            "Enter your weight: 50\n",
            "Enter your height: 1.70\n",
            "Enter your university name: Flinders University\n",
            "Enter your nationality: Nepali\n",
            "Hello, I am ajay, 26 years old. My weight is 50.00. I am 1.70 meters tall.\n",
            "I am a Flinders University student. My nationality is Nepali\n"
          ]
        }
      ]
    }
  ]
}